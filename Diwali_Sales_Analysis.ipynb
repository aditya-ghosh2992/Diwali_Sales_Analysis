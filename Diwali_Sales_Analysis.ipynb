{
  "cells": [
    {
      "cell_type": "markdown",
      "metadata": {
        "id": "view-in-github",
        "colab_type": "text"
      },
      "source": [
        "<a href=\"https://colab.research.google.com/github/aditya-ghosh2992/Diwali_Sales_Analysis/blob/main/Diwali_Sales_Analysis.ipynb\" target=\"_parent\"><img src=\"https://colab.research.google.com/assets/colab-badge.svg\" alt=\"Open In Colab\"/></a>"
      ]
    },
    {
      "cell_type": "markdown",
      "source": [
        "# **Diwali_Sales_Data_Analysis**\n",
        "### Project By: Aditya Ghosh\n",
        "[Linkedin](https://www.linkedin.com/in/adityaghosh2992/) [Github](https://github.com/aditya-ghosh2992)\n",
        "\n",
        "DataSet : https://docs.google.com/spreadsheets/d/13XE3hUlL5AnBBDK2E0BuT5s-kJ5TRg25UbkLClfCs1Y/edit?usp=sharing\n"
      ],
      "metadata": {
        "id": "Xinx-ztxTcoT"
      },
      "id": "Xinx-ztxTcoT"
    },
    {
      "cell_type": "markdown",
      "source": [
        "### Objective:\n",
        "**Analyze last year's Diwali sales to better understand target customers and optimize future strategies.**\n",
        "\n",
        "### Key Steps:\n",
        "\n",
        "1. **Data Collection**: Gather Diwali sales data (products, customers, transactions).\n",
        "   \n",
        "2. **Data Cleaning**: Handle missing values, standardize formats, and remove duplicates.\n",
        "\n",
        "3. **Exploratory Data Analysis (EDA)**:\n",
        "   - **Univariate Analysis**: Identify best-selling products, categories, and customer age groups.\n",
        "   - **Bivariate Analysis**: Explore relationships between customer demographics (age, location) and spending.\n",
        "   - **Customer Segmentation**: Group customers by purchase behavior and demographics.\n",
        "   - **Sales Trends**: Visualize daily/weekly sales and identify peak days.\n",
        "   - **Geographic Analysis**: Spot top-performing regions.\n",
        "\n",
        "4. **Key Insights**:\n",
        "   - Identify popular products and high-spending customer segments.\n",
        "   - Analyze demographic trends and sales channel performance (online vs. offline).\n",
        "   - Pinpoint high-value customers.\n",
        "\n",
        "5. **Recommendations**:\n",
        "   - Optimize marketing and promotions for different customer groups.\n",
        "   - Adjust inventory based on high-demand products and regions for future Diwali sales."
      ],
      "metadata": {
        "id": "rW2Kha0-U-7b"
      },
      "id": "rW2Kha0-U-7b"
    },
    {
      "cell_type": "code",
      "source": [
        "# install all libraries\n",
        "\n",
        "!pip install pandas\n",
        "!pip install numpy\n",
        "!pip install matplotlib\n",
        "!pip install seaborn"
      ],
      "metadata": {
        "id": "bVET1CFK2gul"
      },
      "id": "bVET1CFK2gul",
      "execution_count": null,
      "outputs": []
    },
    {
      "cell_type": "code",
      "execution_count": null,
      "id": "0979edbb",
      "metadata": {
        "id": "0979edbb"
      },
      "outputs": [],
      "source": [
        "# import python libraries\n",
        "\n",
        "import numpy as np\n",
        "import pandas as pd\n",
        "import matplotlib.pyplot as plt # visualizing data\n",
        "import seaborn as sns"
      ]
    },
    {
      "cell_type": "code",
      "execution_count": null,
      "id": "7fbfb436",
      "metadata": {
        "id": "7fbfb436"
      },
      "outputs": [],
      "source": [
        "# import csv file\n",
        "df = pd.read_csv('Diwali Sales Data.csv', encoding= 'unicode_escape')"
      ]
    },
    {
      "cell_type": "code",
      "execution_count": null,
      "id": "b8db4a5b",
      "metadata": {
        "id": "b8db4a5b"
      },
      "outputs": [],
      "source": [
        "df.shape       # check the total number of row and columns"
      ]
    },
    {
      "cell_type": "code",
      "execution_count": null,
      "id": "662c471c",
      "metadata": {
        "id": "662c471c"
      },
      "outputs": [],
      "source": [
        "df.head()       # Display the first 5 data from the Data Set"
      ]
    },
    {
      "cell_type": "code",
      "execution_count": null,
      "id": "0814c45b",
      "metadata": {
        "id": "0814c45b"
      },
      "outputs": [],
      "source": [
        "df.info()"
      ]
    },
    {
      "cell_type": "code",
      "execution_count": null,
      "id": "29afa95b",
      "metadata": {
        "id": "29afa95b"
      },
      "outputs": [],
      "source": [
        "#drop unrelated/blank columns\n",
        "df.drop(['Status', 'unnamed1'], axis=1, inplace=True)"
      ]
    },
    {
      "cell_type": "code",
      "source": [
        "df.info() #checking id columns are deleted"
      ],
      "metadata": {
        "id": "zQhqlfra3koW"
      },
      "id": "zQhqlfra3koW",
      "execution_count": null,
      "outputs": []
    },
    {
      "cell_type": "code",
      "execution_count": null,
      "id": "5cee58eb",
      "metadata": {
        "id": "5cee58eb"
      },
      "outputs": [],
      "source": [
        "#check for null values\n",
        "pd.isnull(df).sum()"
      ]
    },
    {
      "cell_type": "code",
      "execution_count": null,
      "id": "65de74e3",
      "metadata": {
        "id": "65de74e3"
      },
      "outputs": [],
      "source": [
        "# drop null values\n",
        "df.dropna(inplace=True)"
      ]
    },
    {
      "cell_type": "code",
      "execution_count": null,
      "id": "14e4ff48",
      "metadata": {
        "id": "14e4ff48"
      },
      "outputs": [],
      "source": [
        "# change data type\n",
        "df['Amount'] = df['Amount'].astype('int')"
      ]
    },
    {
      "cell_type": "code",
      "execution_count": null,
      "id": "aa6752dc",
      "metadata": {
        "id": "aa6752dc"
      },
      "outputs": [],
      "source": [
        "df['Amount'].dtypes"
      ]
    },
    {
      "cell_type": "code",
      "execution_count": null,
      "id": "5f723a99",
      "metadata": {
        "id": "5f723a99"
      },
      "outputs": [],
      "source": [
        "df.columns"
      ]
    },
    {
      "cell_type": "code",
      "execution_count": null,
      "id": "a85bb3c3",
      "metadata": {
        "id": "a85bb3c3"
      },
      "outputs": [],
      "source": [
        "#rename column\n",
        "df.rename(columns= {'Marital_Status':'Shaadi'})"
      ]
    },
    {
      "cell_type": "code",
      "execution_count": null,
      "id": "a2484863",
      "metadata": {
        "id": "a2484863"
      },
      "outputs": [],
      "source": [
        "# describe() method returns description of the data in the DataFrame (i.e. count, mean, std, etc)\n",
        "df.describe()"
      ]
    },
    {
      "cell_type": "code",
      "execution_count": null,
      "id": "2c380030",
      "metadata": {
        "id": "2c380030"
      },
      "outputs": [],
      "source": [
        "# use describe() for specific columns\n",
        "df[['Age', 'Orders', 'Amount']].describe()"
      ]
    },
    {
      "cell_type": "markdown",
      "id": "cc649558",
      "metadata": {
        "id": "cc649558"
      },
      "source": [
        "# Exploratory Data Analysis"
      ]
    },
    {
      "cell_type": "markdown",
      "id": "504b419c",
      "metadata": {
        "id": "504b419c"
      },
      "source": [
        "### Gender"
      ]
    },
    {
      "cell_type": "code",
      "execution_count": null,
      "id": "84c7918d",
      "metadata": {
        "scrolled": false,
        "id": "84c7918d"
      },
      "outputs": [],
      "source": [
        "# plotting a bar chart for Gender and it's count\n",
        "\n",
        "ax = sns.countplot(x = 'Gender',data = df)\n",
        "\n",
        "for bars in ax.containers:\n",
        "    ax.bar_label(bars)"
      ]
    },
    {
      "cell_type": "code",
      "execution_count": null,
      "id": "c5fd4566",
      "metadata": {
        "id": "c5fd4566"
      },
      "outputs": [],
      "source": [
        "# plotting a bar chart for gender vs total amount\n",
        "\n",
        "sales_gen = df.groupby(['Gender'], as_index=False)['Amount'].sum().sort_values(by='Amount', ascending=False)\n",
        "\n",
        "sns.barplot(x = 'Gender',y= 'Amount' ,data = sales_gen)"
      ]
    },
    {
      "cell_type": "markdown",
      "id": "1e108cec",
      "metadata": {
        "id": "1e108cec"
      },
      "source": [
        "## *From above graphs we can see that most of the buyers are females and even the purchasing power of females are greater than men*"
      ]
    },
    {
      "cell_type": "markdown",
      "id": "dcc927f9",
      "metadata": {
        "id": "dcc927f9"
      },
      "source": [
        "### Age"
      ]
    },
    {
      "cell_type": "code",
      "execution_count": null,
      "id": "88563dec",
      "metadata": {
        "id": "88563dec"
      },
      "outputs": [],
      "source": [
        "# plotting a bar chart for gender vs Age Group\n",
        "\n",
        "ax = sns.countplot(data = df, x = 'Age Group', hue = 'Gender')\n",
        "\n",
        "for bars in ax.containers:\n",
        "    ax.bar_label(bars)"
      ]
    },
    {
      "cell_type": "code",
      "execution_count": null,
      "id": "bfbe3937",
      "metadata": {
        "id": "bfbe3937"
      },
      "outputs": [],
      "source": [
        "# Total Amount vs Age Group\n",
        "sales_age = df.groupby(['Age Group'], as_index=False)['Amount'].sum().sort_values(by='Amount', ascending=False)\n",
        "\n",
        "sns.barplot(x = 'Age Group',y= 'Amount' ,data = sales_age)"
      ]
    },
    {
      "cell_type": "markdown",
      "id": "abaa6c07",
      "metadata": {
        "id": "abaa6c07"
      },
      "source": [
        "## *From above graphs we can see that most of the buyers are of age group between 26-35 yrs female*"
      ]
    },
    {
      "cell_type": "markdown",
      "id": "83a49098",
      "metadata": {
        "id": "83a49098"
      },
      "source": [
        "### State"
      ]
    },
    {
      "cell_type": "code",
      "execution_count": null,
      "id": "dfac4f2c",
      "metadata": {
        "id": "dfac4f2c"
      },
      "outputs": [],
      "source": [
        "# total number of orders from top 10 states\n",
        "\n",
        "sales_state = df.groupby(['State'], as_index=False)['Orders'].sum().sort_values(by='Orders', ascending=False).head(10)\n",
        "\n",
        "sns.set(rc={'figure.figsize':(15,5)})\n",
        "sns.barplot(data = sales_state, x = 'State',y= 'Orders')"
      ]
    },
    {
      "cell_type": "code",
      "execution_count": null,
      "id": "a66617bc",
      "metadata": {
        "id": "a66617bc"
      },
      "outputs": [],
      "source": [
        "# total amount/sales from top 10 states\n",
        "\n",
        "sales_state = df.groupby(['State'], as_index=False)['Amount'].sum().sort_values(by='Amount', ascending=False).head(10)\n",
        "\n",
        "sns.set(rc={'figure.figsize':(15,5)})\n",
        "sns.barplot(data = sales_state, x = 'State',y= 'Amount')"
      ]
    },
    {
      "cell_type": "markdown",
      "id": "39d46e9e",
      "metadata": {
        "id": "39d46e9e"
      },
      "source": [
        "## *From above graphs we can see that most of the orders & total sales/amount are from Uttar Pradesh, Maharashtra and Karnataka respectively*\n"
      ]
    },
    {
      "cell_type": "markdown",
      "id": "89f865a5",
      "metadata": {
        "id": "89f865a5"
      },
      "source": [
        "### Marital Status"
      ]
    },
    {
      "cell_type": "code",
      "execution_count": null,
      "id": "77e6635e",
      "metadata": {
        "id": "77e6635e"
      },
      "outputs": [],
      "source": [
        "# Marital Status vs Count\n",
        "ax = sns.countplot(data = df, x = 'Marital_Status')\n",
        "\n",
        "sns.set(rc={'figure.figsize':(7,5)})\n",
        "for bars in ax.containers:\n",
        "    ax.bar_label(bars)"
      ]
    },
    {
      "cell_type": "code",
      "execution_count": null,
      "id": "2d8c7b27",
      "metadata": {
        "id": "2d8c7b27"
      },
      "outputs": [],
      "source": [
        "# Marital Status vs Gender vs Ammount\n",
        "\n",
        "sales_state = df.groupby(['Marital_Status', 'Gender'], as_index=False)['Amount'].sum().sort_values(by='Amount', ascending=False)\n",
        "\n",
        "sns.set(rc={'figure.figsize':(6,5)})\n",
        "sns.barplot(data = sales_state, x = 'Marital_Status',y= 'Amount', hue='Gender')"
      ]
    },
    {
      "cell_type": "markdown",
      "id": "37afbb83",
      "metadata": {
        "id": "37afbb83"
      },
      "source": [
        "## *From above graphs we can see that most of the buyers are married (women) and they have high purchasing power*"
      ]
    },
    {
      "cell_type": "markdown",
      "id": "230cfe66",
      "metadata": {
        "id": "230cfe66"
      },
      "source": [
        "### Occupation"
      ]
    },
    {
      "cell_type": "code",
      "execution_count": null,
      "id": "4deb41f4",
      "metadata": {
        "id": "4deb41f4"
      },
      "outputs": [],
      "source": [
        "#Occupation vs Count\n",
        "sns.set(rc={'figure.figsize':(20,5)})\n",
        "ax = sns.countplot(data = df, x = 'Occupation')\n",
        "\n",
        "for bars in ax.containers:\n",
        "    ax.bar_label(bars)"
      ]
    },
    {
      "cell_type": "code",
      "execution_count": null,
      "id": "4eb620f6",
      "metadata": {
        "id": "4eb620f6"
      },
      "outputs": [],
      "source": [
        "#Occupation vs Amount\n",
        "sales_state = df.groupby(['Occupation'], as_index=False)['Amount'].sum().sort_values(by='Amount', ascending=False)\n",
        "\n",
        "sns.set(rc={'figure.figsize':(20,5)})\n",
        "sns.barplot(data = sales_state, x = 'Occupation',y= 'Amount')"
      ]
    },
    {
      "cell_type": "markdown",
      "id": "26c22532",
      "metadata": {
        "id": "26c22532"
      },
      "source": [
        "## *From above graphs we can see that most of the buyers are working in IT, Healthcare and Aviation sector*"
      ]
    },
    {
      "cell_type": "markdown",
      "id": "40518579",
      "metadata": {
        "id": "40518579"
      },
      "source": [
        "### Product Category"
      ]
    },
    {
      "cell_type": "code",
      "execution_count": null,
      "id": "3e7e4d39",
      "metadata": {
        "id": "3e7e4d39"
      },
      "outputs": [],
      "source": [
        "#Product vs count\n",
        "sns.set(rc={'figure.figsize':(20,5)})\n",
        "ax = sns.countplot(data = df, x = 'Product_Category')\n",
        "\n",
        "for bars in ax.containers:\n",
        "    ax.bar_label(bars)"
      ]
    },
    {
      "cell_type": "code",
      "execution_count": null,
      "id": "99f5c6f3",
      "metadata": {
        "id": "99f5c6f3"
      },
      "outputs": [],
      "source": [
        "#Product vs Amount\n",
        "sales_state = df.groupby(['Product_Category'], as_index=False)['Amount'].sum().sort_values(by='Amount', ascending=False).head(10)\n",
        "\n",
        "sns.set(rc={'figure.figsize':(20,5)})\n",
        "sns.barplot(data = sales_state, x = 'Product_Category',y= 'Amount')"
      ]
    },
    {
      "cell_type": "markdown",
      "id": "5be54973",
      "metadata": {
        "id": "5be54973"
      },
      "source": [
        "*From above graphs we can see that most of the sold products are from Food, Clothing and Electronics category*"
      ]
    },
    {
      "cell_type": "code",
      "execution_count": null,
      "id": "f33d23c7",
      "metadata": {
        "id": "f33d23c7"
      },
      "outputs": [],
      "source": [
        "sales_state = df.groupby(['Product_ID'], as_index=False)['Orders'].sum().sort_values(by='Orders', ascending=False).head(10)\n",
        "\n",
        "sns.set(rc={'figure.figsize':(20,5)})\n",
        "sns.barplot(data = sales_state, x = 'Product_ID',y= 'Orders')"
      ]
    },
    {
      "cell_type": "code",
      "execution_count": null,
      "id": "17d2bb43",
      "metadata": {
        "id": "17d2bb43"
      },
      "outputs": [],
      "source": [
        "# top 10 most sold products (same thing as above)\n",
        "\n",
        "fig1, ax1 = plt.subplots(figsize=(12,7))\n",
        "df.groupby('Product_ID')['Orders'].sum().nlargest(10).sort_values(ascending=False).plot(kind='bar')"
      ]
    },
    {
      "cell_type": "markdown",
      "id": "31f88f63",
      "metadata": {
        "id": "31f88f63"
      },
      "source": [
        "## Conclusion:\n"
      ]
    },
    {
      "cell_type": "markdown",
      "id": "56e52bca",
      "metadata": {
        "id": "56e52bca"
      },
      "source": [
        "## *Married women age group 26-35 yrs from UP,  Maharastra and Karnataka working in IT, Healthcare and Aviation are more likely to buy products from Food, Clothing and Electronics category*"
      ]
    },
    {
      "cell_type": "markdown",
      "id": "d7bfbc58",
      "metadata": {
        "id": "d7bfbc58"
      },
      "source": [
        "Thank you!"
      ]
    }
  ],
  "metadata": {
    "kernelspec": {
      "display_name": "Python 3 (ipykernel)",
      "language": "python",
      "name": "python3"
    },
    "language_info": {
      "codemirror_mode": {
        "name": "ipython",
        "version": 3
      },
      "file_extension": ".py",
      "mimetype": "text/x-python",
      "name": "python",
      "nbconvert_exporter": "python",
      "pygments_lexer": "ipython3",
      "version": "3.11.2"
    },
    "colab": {
      "provenance": [],
      "include_colab_link": true
    }
  },
  "nbformat": 4,
  "nbformat_minor": 5
}